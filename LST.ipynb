{
 "cells": [
  {
   "cell_type": "code",
   "execution_count": 100,
   "id": "745defe1-9490-4117-9533-9e09d375d756",
   "metadata": {},
   "outputs": [],
   "source": [
    "import warnings\n",
    "warnings.filterwarnings('ignore')"
   ]
  },
  {
   "cell_type": "code",
   "execution_count": 101,
   "id": "9f130901-63bd-4374-95de-2dcb501b105b",
   "metadata": {},
   "outputs": [
    {
     "name": "stdout",
     "output_type": "stream",
     "text": [
      "[['T1', 0.0, 3.0, 20, 20], ['T2', 2.0, 2.0, 5, 5], ['T3', 1.0, 2.0, 10, 10]]\n"
     ]
    }
   ],
   "source": [
    "task_set=[]\n",
    "with open('task_setEDF.txt', 'r') as file:\n",
    "    for line in file:\n",
    "        line = line.strip()\n",
    "        if line.startswith('['):\n",
    "            line = line[1:]\n",
    "        if line.endswith(']'):\n",
    "            line = line[:-1]\n",
    "        values = line.split(',')\n",
    "        task_set.append([values[1][2:len(values[1])-1],float(values[2]),float(values[3]),int(values[4]),int(values[5])])\n",
    "print(task_set)"
   ]
  },
  {
   "cell_type": "code",
   "execution_count": 102,
   "id": "646c8f98-a492-45e7-bb2c-fc34880a0919",
   "metadata": {},
   "outputs": [],
   "source": [
    "def schedulability(task_set):\n",
    "    util=0;\n",
    "    for task in task_set:\n",
    "        util+=(task[2]/min(task[3],task[4]))\n",
    "    return (util<=1)"
   ]
  },
  {
   "cell_type": "code",
   "execution_count": 103,
   "id": "0f1a172d-f97a-43de-a488-bc6838983b0a",
   "metadata": {},
   "outputs": [],
   "source": [
    "import math\n",
    "def hyperperiod(periods):\n",
    "    lcm_ = periods[0]\n",
    "    for i in range(1, len(periods)):\n",
    "        lcm_ = math.lcm(lcm_, periods[i])\n",
    "    return lcm_"
   ]
  },
  {
   "cell_type": "code",
   "execution_count": 104,
   "id": "b02d5a75-ae7a-4744-b3b0-4f02a08d3e5a",
   "metadata": {},
   "outputs": [
    {
     "data": {
      "text/html": [
       "<div>\n",
       "<style scoped>\n",
       "    .dataframe tbody tr th:only-of-type {\n",
       "        vertical-align: middle;\n",
       "    }\n",
       "\n",
       "    .dataframe tbody tr th {\n",
       "        vertical-align: top;\n",
       "    }\n",
       "\n",
       "    .dataframe thead th {\n",
       "        text-align: right;\n",
       "    }\n",
       "</style>\n",
       "<table border=\"1\" class=\"dataframe\">\n",
       "  <thead>\n",
       "    <tr style=\"text-align: right;\">\n",
       "      <th></th>\n",
       "      <th>Task</th>\n",
       "      <th>release_time</th>\n",
       "      <th>ex_time</th>\n",
       "      <th>period</th>\n",
       "      <th>Deadline</th>\n",
       "    </tr>\n",
       "  </thead>\n",
       "  <tbody>\n",
       "    <tr>\n",
       "      <th>0</th>\n",
       "      <td>T1</td>\n",
       "      <td>0.0</td>\n",
       "      <td>3.0</td>\n",
       "      <td>20</td>\n",
       "      <td>20</td>\n",
       "    </tr>\n",
       "    <tr>\n",
       "      <th>1</th>\n",
       "      <td>T2</td>\n",
       "      <td>2.0</td>\n",
       "      <td>2.0</td>\n",
       "      <td>5</td>\n",
       "      <td>5</td>\n",
       "    </tr>\n",
       "    <tr>\n",
       "      <th>2</th>\n",
       "      <td>T3</td>\n",
       "      <td>1.0</td>\n",
       "      <td>2.0</td>\n",
       "      <td>10</td>\n",
       "      <td>10</td>\n",
       "    </tr>\n",
       "  </tbody>\n",
       "</table>\n",
       "</div>"
      ],
      "text/plain": [
       "  Task  release_time  ex_time  period  Deadline\n",
       "0   T1           0.0      3.0      20        20\n",
       "1   T2           2.0      2.0       5         5\n",
       "2   T3           1.0      2.0      10        10"
      ]
     },
     "execution_count": 104,
     "metadata": {},
     "output_type": "execute_result"
    }
   ],
   "source": [
    "import pandas as pd\n",
    "df=pd.DataFrame(task_set,columns=[\"Task\",\"release_time\",\"ex_time\",\"period\",\"Deadline\"])\n",
    "df"
   ]
  },
  {
   "cell_type": "code",
   "execution_count": 105,
   "id": "3728e5fc-32c5-4de8-94db-aa1b9dfbe5c8",
   "metadata": {},
   "outputs": [
    {
     "data": {
      "text/html": [
       "<div>\n",
       "<style scoped>\n",
       "    .dataframe tbody tr th:only-of-type {\n",
       "        vertical-align: middle;\n",
       "    }\n",
       "\n",
       "    .dataframe tbody tr th {\n",
       "        vertical-align: top;\n",
       "    }\n",
       "\n",
       "    .dataframe thead th {\n",
       "        text-align: right;\n",
       "    }\n",
       "</style>\n",
       "<table border=\"1\" class=\"dataframe\">\n",
       "  <thead>\n",
       "    <tr style=\"text-align: right;\">\n",
       "      <th></th>\n",
       "      <th>Task</th>\n",
       "      <th>release_time</th>\n",
       "      <th>ex_time</th>\n",
       "      <th>period</th>\n",
       "      <th>Deadline</th>\n",
       "      <th>time_left</th>\n",
       "      <th>rel_deadline</th>\n",
       "    </tr>\n",
       "  </thead>\n",
       "  <tbody>\n",
       "    <tr>\n",
       "      <th>0</th>\n",
       "      <td>T1</td>\n",
       "      <td>0.0</td>\n",
       "      <td>3.0</td>\n",
       "      <td>20</td>\n",
       "      <td>20</td>\n",
       "      <td>3.0</td>\n",
       "      <td>20</td>\n",
       "    </tr>\n",
       "    <tr>\n",
       "      <th>1</th>\n",
       "      <td>T2</td>\n",
       "      <td>2.0</td>\n",
       "      <td>2.0</td>\n",
       "      <td>5</td>\n",
       "      <td>5</td>\n",
       "      <td>2.0</td>\n",
       "      <td>5</td>\n",
       "    </tr>\n",
       "    <tr>\n",
       "      <th>2</th>\n",
       "      <td>T3</td>\n",
       "      <td>1.0</td>\n",
       "      <td>2.0</td>\n",
       "      <td>10</td>\n",
       "      <td>10</td>\n",
       "      <td>2.0</td>\n",
       "      <td>10</td>\n",
       "    </tr>\n",
       "  </tbody>\n",
       "</table>\n",
       "</div>"
      ],
      "text/plain": [
       "  Task  release_time  ex_time  period  Deadline  time_left  rel_deadline\n",
       "0   T1           0.0      3.0      20        20        3.0            20\n",
       "1   T2           2.0      2.0       5         5        2.0             5\n",
       "2   T3           1.0      2.0      10        10        2.0            10"
      ]
     },
     "execution_count": 105,
     "metadata": {},
     "output_type": "execute_result"
    }
   ],
   "source": [
    "df['time_left'] = df['ex_time']\n",
    "df['rel_deadline'] = df['Deadline']\n",
    "df"
   ]
  },
  {
   "cell_type": "code",
   "execution_count": 106,
   "id": "4cd4b950-052f-496b-a047-fb09788d0b6c",
   "metadata": {},
   "outputs": [],
   "source": [
    "DMS=[]"
   ]
  },
  {
   "cell_type": "code",
   "execution_count": 107,
   "id": "3033131c-1397-4aed-9107-2f35543dea09",
   "metadata": {},
   "outputs": [],
   "source": [
    "if schedulability(task_set):\n",
    "    for i in range(hyperperiod(df.period)):\n",
    "        rem=df[df[\"release_time\"]<=i]\n",
    "        rem=rem[rem[\"time_left\"]>0]\n",
    "        if len(rem)>0:\n",
    "            s_task=rem.sort_values('rel_deadline').index[0]\n",
    "            df.loc[s_task,\"time_left\"]=df.loc[s_task][\"time_left\"]-1.0\n",
    "            if i>0 and DMS[-1]['Task']==df.loc[s_task][\"Task\"] and DMS[-1]['end']==i :\n",
    "                DMS[-1].update({'end':i+1,'length':DMS[-1]['length']+1})\n",
    "            else : \n",
    "                DMS += [{'Task': df.loc[s_task][\"Task\"],'start': i,'end': i+1,'length': 1}]\n",
    "        arrived=df[(i+1)%df['period']==0].index\n",
    "        df.loc[arrived, 'time_left'] = df.loc[arrived, 'ex_time']\n",
    "        df.loc[arrived, 'rel_deadline'] = df.loc[arrived, 'Deadline']+df.loc[arrived, 'period']\n",
    "else:\n",
    "    print(\"Not Schedulabe using DMA!! :/\")"
   ]
  },
  {
   "cell_type": "code",
   "execution_count": 108,
   "id": "282b9407-b269-40a0-98bc-7487509df3b0",
   "metadata": {},
   "outputs": [
    {
     "data": {
      "text/plain": [
       "[{'Task': 'T1', 'start': 0, 'end': 1, 'length': 1},\n",
       " {'Task': 'T3', 'start': 1, 'end': 2, 'length': 1},\n",
       " {'Task': 'T2', 'start': 2, 'end': 4, 'length': 2},\n",
       " {'Task': 'T3', 'start': 4, 'end': 5, 'length': 1},\n",
       " {'Task': 'T2', 'start': 5, 'end': 7, 'length': 2},\n",
       " {'Task': 'T1', 'start': 7, 'end': 9, 'length': 2},\n",
       " {'Task': 'T2', 'start': 10, 'end': 12, 'length': 2},\n",
       " {'Task': 'T3', 'start': 12, 'end': 14, 'length': 2},\n",
       " {'Task': 'T2', 'start': 15, 'end': 17, 'length': 2}]"
      ]
     },
     "execution_count": 108,
     "metadata": {},
     "output_type": "execute_result"
    }
   ],
   "source": [
    "DMS"
   ]
  },
  {
   "cell_type": "code",
   "execution_count": 109,
   "id": "3b530a5a-cfd6-4c5b-9521-bcf2b5f0c25e",
   "metadata": {},
   "outputs": [],
   "source": [
    "DMS=pd.DataFrame(DMS)"
   ]
  },
  {
   "cell_type": "code",
   "execution_count": 110,
   "id": "d0c51443-085f-48d9-a8be-35d872367c39",
   "metadata": {},
   "outputs": [
    {
     "name": "stdout",
     "output_type": "stream",
     "text": [
      "Yaay!!  Schedulabe using DMA :\n",
      "------------------------------------------------------------------------------\n"
     ]
    },
    {
     "data": {
      "text/html": [
       "<div>\n",
       "<style scoped>\n",
       "    .dataframe tbody tr th:only-of-type {\n",
       "        vertical-align: middle;\n",
       "    }\n",
       "\n",
       "    .dataframe tbody tr th {\n",
       "        vertical-align: top;\n",
       "    }\n",
       "\n",
       "    .dataframe thead th {\n",
       "        text-align: right;\n",
       "    }\n",
       "</style>\n",
       "<table border=\"1\" class=\"dataframe\">\n",
       "  <thead>\n",
       "    <tr style=\"text-align: right;\">\n",
       "      <th></th>\n",
       "      <th>Task</th>\n",
       "      <th>start</th>\n",
       "      <th>end</th>\n",
       "      <th>length</th>\n",
       "    </tr>\n",
       "  </thead>\n",
       "  <tbody>\n",
       "    <tr>\n",
       "      <th>0</th>\n",
       "      <td>T1</td>\n",
       "      <td>0</td>\n",
       "      <td>1</td>\n",
       "      <td>1</td>\n",
       "    </tr>\n",
       "    <tr>\n",
       "      <th>1</th>\n",
       "      <td>T3</td>\n",
       "      <td>1</td>\n",
       "      <td>2</td>\n",
       "      <td>1</td>\n",
       "    </tr>\n",
       "    <tr>\n",
       "      <th>2</th>\n",
       "      <td>T2</td>\n",
       "      <td>2</td>\n",
       "      <td>4</td>\n",
       "      <td>2</td>\n",
       "    </tr>\n",
       "    <tr>\n",
       "      <th>3</th>\n",
       "      <td>T3</td>\n",
       "      <td>4</td>\n",
       "      <td>5</td>\n",
       "      <td>1</td>\n",
       "    </tr>\n",
       "    <tr>\n",
       "      <th>4</th>\n",
       "      <td>T2</td>\n",
       "      <td>5</td>\n",
       "      <td>7</td>\n",
       "      <td>2</td>\n",
       "    </tr>\n",
       "    <tr>\n",
       "      <th>5</th>\n",
       "      <td>T1</td>\n",
       "      <td>7</td>\n",
       "      <td>9</td>\n",
       "      <td>2</td>\n",
       "    </tr>\n",
       "    <tr>\n",
       "      <th>6</th>\n",
       "      <td>T2</td>\n",
       "      <td>10</td>\n",
       "      <td>12</td>\n",
       "      <td>2</td>\n",
       "    </tr>\n",
       "    <tr>\n",
       "      <th>7</th>\n",
       "      <td>T3</td>\n",
       "      <td>12</td>\n",
       "      <td>14</td>\n",
       "      <td>2</td>\n",
       "    </tr>\n",
       "    <tr>\n",
       "      <th>8</th>\n",
       "      <td>T2</td>\n",
       "      <td>15</td>\n",
       "      <td>17</td>\n",
       "      <td>2</td>\n",
       "    </tr>\n",
       "  </tbody>\n",
       "</table>\n",
       "</div>"
      ],
      "text/plain": [
       "  Task  start  end  length\n",
       "0   T1      0    1       1\n",
       "1   T3      1    2       1\n",
       "2   T2      2    4       2\n",
       "3   T3      4    5       1\n",
       "4   T2      5    7       2\n",
       "5   T1      7    9       2\n",
       "6   T2     10   12       2\n",
       "7   T3     12   14       2\n",
       "8   T2     15   17       2"
      ]
     },
     "execution_count": 110,
     "metadata": {},
     "output_type": "execute_result"
    }
   ],
   "source": [
    "if schedulability(task_set): print(\"Yaay!!  Schedulabe using DMA :\")\n",
    "print(\"------------------------------------------------------------------------------\")\n",
    "DMS"
   ]
  },
  {
   "cell_type": "code",
   "execution_count": null,
   "id": "cc3f7ed8-8b28-4f89-b11f-b91944920add",
   "metadata": {},
   "outputs": [],
   "source": []
  }
 ],
 "metadata": {
  "kernelspec": {
   "display_name": "Python 3 (ipykernel)",
   "language": "python",
   "name": "python3"
  },
  "language_info": {
   "codemirror_mode": {
    "name": "ipython",
    "version": 3
   },
   "file_extension": ".py",
   "mimetype": "text/x-python",
   "name": "python",
   "nbconvert_exporter": "python",
   "pygments_lexer": "ipython3",
   "version": "3.11.0"
  }
 },
 "nbformat": 4,
 "nbformat_minor": 5
}
