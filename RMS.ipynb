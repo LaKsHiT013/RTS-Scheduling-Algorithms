{
 "cells": [
  {
   "cell_type": "code",
   "execution_count": 50,
   "id": "126be638-a8b1-4624-bb9c-b61d5cf4931a",
   "metadata": {},
   "outputs": [],
   "source": [
    "import warnings\n",
    "warnings.filterwarnings('ignore')"
   ]
  },
  {
   "cell_type": "code",
   "execution_count": 51,
   "id": "66d8e865-e24c-4c9d-baa6-0134b65b6c3e",
   "metadata": {},
   "outputs": [
    {
     "name": "stdout",
     "output_type": "stream",
     "text": [
      "[['T1', 0.0, 3.0, 20, 20], ['T2', 0.0, 2.0, 5, 5], ['T3', 0.0, 2.0, 10, 20]]\n"
     ]
    }
   ],
   "source": [
    "task_set=[]\n",
    "with open('task_set.txt', 'r') as file:\n",
    "    for line in file:\n",
    "        line = line.strip()\n",
    "        if line.startswith('['):\n",
    "            line = line[1:]\n",
    "        if line.endswith(']'):\n",
    "            line = line[:-1]\n",
    "        values = line.split(',')\n",
    "        task_set.append([values[1][2:len(values[1])-1],float(values[2]),float(values[3]),int(values[4]),int(values[5])])\n",
    "print(task_set)"
   ]
  },
  {
   "cell_type": "code",
   "execution_count": 52,
   "id": "f2dd417d-dc61-4732-8a9e-ad8d0b7d84ae",
   "metadata": {},
   "outputs": [],
   "source": [
    "def schedulability(task_set):\n",
    "    util=0\n",
    "    n = len(task_set)\n",
    "    ualg=n*(2**(1/n)-1)\n",
    "    for task in task_set:\n",
    "        util+=(task[2]/min(task[3],task[4]))\n",
    "    return ualg>util"
   ]
  },
  {
   "cell_type": "code",
   "execution_count": 53,
   "id": "54961d29-293e-4f0a-868e-b6edcce251da",
   "metadata": {},
   "outputs": [],
   "source": [
    "import math\n",
    "\n",
    "def hyperperiod(periods):\n",
    "    lcm_ = periods[0]\n",
    "    for i in range(1, len(periods)):\n",
    "        lcm_ = math.lcm(lcm_, periods[i])\n",
    "    return lcm_"
   ]
  },
  {
   "cell_type": "code",
   "execution_count": 54,
   "id": "d0ad2196-bd93-4600-84ee-da9ac3e29366",
   "metadata": {},
   "outputs": [
    {
     "data": {
      "text/html": [
       "<div>\n",
       "<style scoped>\n",
       "    .dataframe tbody tr th:only-of-type {\n",
       "        vertical-align: middle;\n",
       "    }\n",
       "\n",
       "    .dataframe tbody tr th {\n",
       "        vertical-align: top;\n",
       "    }\n",
       "\n",
       "    .dataframe thead th {\n",
       "        text-align: right;\n",
       "    }\n",
       "</style>\n",
       "<table border=\"1\" class=\"dataframe\">\n",
       "  <thead>\n",
       "    <tr style=\"text-align: right;\">\n",
       "      <th></th>\n",
       "      <th>Task</th>\n",
       "      <th>release_time</th>\n",
       "      <th>ex_time</th>\n",
       "      <th>period</th>\n",
       "      <th>Deadline</th>\n",
       "    </tr>\n",
       "  </thead>\n",
       "  <tbody>\n",
       "    <tr>\n",
       "      <th>0</th>\n",
       "      <td>T1</td>\n",
       "      <td>0.0</td>\n",
       "      <td>3.0</td>\n",
       "      <td>20</td>\n",
       "      <td>20</td>\n",
       "    </tr>\n",
       "    <tr>\n",
       "      <th>1</th>\n",
       "      <td>T2</td>\n",
       "      <td>0.0</td>\n",
       "      <td>2.0</td>\n",
       "      <td>5</td>\n",
       "      <td>5</td>\n",
       "    </tr>\n",
       "    <tr>\n",
       "      <th>2</th>\n",
       "      <td>T3</td>\n",
       "      <td>0.0</td>\n",
       "      <td>2.0</td>\n",
       "      <td>10</td>\n",
       "      <td>20</td>\n",
       "    </tr>\n",
       "  </tbody>\n",
       "</table>\n",
       "</div>"
      ],
      "text/plain": [
       "  Task  release_time  ex_time  period  Deadline\n",
       "0   T1           0.0      3.0      20        20\n",
       "1   T2           0.0      2.0       5         5\n",
       "2   T3           0.0      2.0      10        20"
      ]
     },
     "execution_count": 54,
     "metadata": {},
     "output_type": "execute_result"
    }
   ],
   "source": [
    "import pandas as pd\n",
    "\n",
    "df=pd.DataFrame(task_set,columns=[\"Task\",\"release_time\",\"ex_time\",\"period\",\"Deadline\"])\n",
    "df"
   ]
  },
  {
   "cell_type": "code",
   "execution_count": 55,
   "id": "f9f4d2f8-5370-455c-bb86-d29135707e50",
   "metadata": {},
   "outputs": [
    {
     "data": {
      "text/html": [
       "<div>\n",
       "<style scoped>\n",
       "    .dataframe tbody tr th:only-of-type {\n",
       "        vertical-align: middle;\n",
       "    }\n",
       "\n",
       "    .dataframe tbody tr th {\n",
       "        vertical-align: top;\n",
       "    }\n",
       "\n",
       "    .dataframe thead th {\n",
       "        text-align: right;\n",
       "    }\n",
       "</style>\n",
       "<table border=\"1\" class=\"dataframe\">\n",
       "  <thead>\n",
       "    <tr style=\"text-align: right;\">\n",
       "      <th></th>\n",
       "      <th>Task</th>\n",
       "      <th>release_time</th>\n",
       "      <th>ex_time</th>\n",
       "      <th>period</th>\n",
       "      <th>Deadline</th>\n",
       "      <th>time_left</th>\n",
       "    </tr>\n",
       "  </thead>\n",
       "  <tbody>\n",
       "    <tr>\n",
       "      <th>0</th>\n",
       "      <td>T1</td>\n",
       "      <td>0.0</td>\n",
       "      <td>3.0</td>\n",
       "      <td>20</td>\n",
       "      <td>20</td>\n",
       "      <td>3.0</td>\n",
       "    </tr>\n",
       "    <tr>\n",
       "      <th>1</th>\n",
       "      <td>T2</td>\n",
       "      <td>0.0</td>\n",
       "      <td>2.0</td>\n",
       "      <td>5</td>\n",
       "      <td>5</td>\n",
       "      <td>2.0</td>\n",
       "    </tr>\n",
       "    <tr>\n",
       "      <th>2</th>\n",
       "      <td>T3</td>\n",
       "      <td>0.0</td>\n",
       "      <td>2.0</td>\n",
       "      <td>10</td>\n",
       "      <td>20</td>\n",
       "      <td>2.0</td>\n",
       "    </tr>\n",
       "  </tbody>\n",
       "</table>\n",
       "</div>"
      ],
      "text/plain": [
       "  Task  release_time  ex_time  period  Deadline  time_left\n",
       "0   T1           0.0      3.0      20        20        3.0\n",
       "1   T2           0.0      2.0       5         5        2.0\n",
       "2   T3           0.0      2.0      10        20        2.0"
      ]
     },
     "execution_count": 55,
     "metadata": {},
     "output_type": "execute_result"
    }
   ],
   "source": [
    "df['time_left'] = df['ex_time']\n",
    "df"
   ]
  },
  {
   "cell_type": "code",
   "execution_count": 56,
   "id": "097e48ce-e6a2-46e7-a2a2-25737438d1f3",
   "metadata": {},
   "outputs": [],
   "source": [
    "RMS=[]"
   ]
  },
  {
   "cell_type": "code",
   "execution_count": 57,
   "id": "9e49d711-7f69-4fa3-8fcd-366f6ac8a22e",
   "metadata": {},
   "outputs": [],
   "source": [
    "if schedulability(task_set):\n",
    "    for i in range(hyperperiod(df.period)):\n",
    "        rem=df[df[\"release_time\"]<=i]\n",
    "        rem=rem[rem[\"time_left\"]>0]\n",
    "        if len(rem)>0:\n",
    "            s_task=rem.sort_values('period').index[0]\n",
    "            df.loc[s_task,\"time_left\"]=df.loc[s_task][\"time_left\"]-1.0\n",
    "            if i>0 and RMS[-1]['Task']==df.loc[s_task][\"Task\"] and RMS[-1]['end']==i :\n",
    "                RMS[-1].update({'end':i+1,'length':RMS[-1]['length']+1})\n",
    "            else:\n",
    "                RMS += [{'Task': df.loc[s_task][\"Task\"],'start': i,'end': i+1,'length': 1}]\n",
    "        arrived=df[(i+1)%df['period']==0].index\n",
    "        df.loc[arrived, 'time_left'] = df.loc[arrived, 'ex_time']\n",
    "else:\n",
    "    print(\"Not Schedulabe using RMA!! :/\")"
   ]
  },
  {
   "cell_type": "code",
   "execution_count": 58,
   "id": "6f42fecc-51b7-41a3-86a7-215554764651",
   "metadata": {},
   "outputs": [
    {
     "data": {
      "text/plain": [
       "[{'Task': 'T2', 'start': 0, 'end': 2, 'length': 2},\n",
       " {'Task': 'T3', 'start': 2, 'end': 4, 'length': 2},\n",
       " {'Task': 'T1', 'start': 4, 'end': 5, 'length': 1},\n",
       " {'Task': 'T2', 'start': 5, 'end': 7, 'length': 2},\n",
       " {'Task': 'T1', 'start': 7, 'end': 9, 'length': 2},\n",
       " {'Task': 'T2', 'start': 10, 'end': 12, 'length': 2},\n",
       " {'Task': 'T3', 'start': 12, 'end': 14, 'length': 2},\n",
       " {'Task': 'T2', 'start': 15, 'end': 17, 'length': 2}]"
      ]
     },
     "execution_count": 58,
     "metadata": {},
     "output_type": "execute_result"
    }
   ],
   "source": [
    "RMS"
   ]
  },
  {
   "cell_type": "code",
   "execution_count": 59,
   "id": "51b2f7c2-560c-4edc-9175-61cc325b078e",
   "metadata": {},
   "outputs": [],
   "source": [
    "RMS=pd.DataFrame(RMS)"
   ]
  },
  {
   "cell_type": "code",
   "execution_count": 60,
   "id": "6422432c-7307-4408-abd7-1de77dccedd3",
   "metadata": {},
   "outputs": [
    {
     "name": "stdout",
     "output_type": "stream",
     "text": [
      "Yaay!!  Schedulabe using RMA :)\n",
      "------------------------------------------------------------------------------\n"
     ]
    }
   ],
   "source": [
    "if schedulability(task_set): \n",
    "    print(\"Yaay!!  Schedulabe using RMA :)\")\n",
    "    print(\"------------------------------------------------------------------------------\")"
   ]
  },
  {
   "cell_type": "code",
   "execution_count": 61,
   "id": "d2204ff7-ffc4-4734-998c-f8965edc8d54",
   "metadata": {},
   "outputs": [
    {
     "data": {
      "text/html": [
       "<div>\n",
       "<style scoped>\n",
       "    .dataframe tbody tr th:only-of-type {\n",
       "        vertical-align: middle;\n",
       "    }\n",
       "\n",
       "    .dataframe tbody tr th {\n",
       "        vertical-align: top;\n",
       "    }\n",
       "\n",
       "    .dataframe thead th {\n",
       "        text-align: right;\n",
       "    }\n",
       "</style>\n",
       "<table border=\"1\" class=\"dataframe\">\n",
       "  <thead>\n",
       "    <tr style=\"text-align: right;\">\n",
       "      <th></th>\n",
       "      <th>Task</th>\n",
       "      <th>start</th>\n",
       "      <th>end</th>\n",
       "      <th>length</th>\n",
       "    </tr>\n",
       "  </thead>\n",
       "  <tbody>\n",
       "    <tr>\n",
       "      <th>0</th>\n",
       "      <td>T2</td>\n",
       "      <td>0</td>\n",
       "      <td>2</td>\n",
       "      <td>2</td>\n",
       "    </tr>\n",
       "    <tr>\n",
       "      <th>1</th>\n",
       "      <td>T3</td>\n",
       "      <td>2</td>\n",
       "      <td>4</td>\n",
       "      <td>2</td>\n",
       "    </tr>\n",
       "    <tr>\n",
       "      <th>2</th>\n",
       "      <td>T1</td>\n",
       "      <td>4</td>\n",
       "      <td>5</td>\n",
       "      <td>1</td>\n",
       "    </tr>\n",
       "    <tr>\n",
       "      <th>3</th>\n",
       "      <td>T2</td>\n",
       "      <td>5</td>\n",
       "      <td>7</td>\n",
       "      <td>2</td>\n",
       "    </tr>\n",
       "    <tr>\n",
       "      <th>4</th>\n",
       "      <td>T1</td>\n",
       "      <td>7</td>\n",
       "      <td>9</td>\n",
       "      <td>2</td>\n",
       "    </tr>\n",
       "    <tr>\n",
       "      <th>5</th>\n",
       "      <td>T2</td>\n",
       "      <td>10</td>\n",
       "      <td>12</td>\n",
       "      <td>2</td>\n",
       "    </tr>\n",
       "    <tr>\n",
       "      <th>6</th>\n",
       "      <td>T3</td>\n",
       "      <td>12</td>\n",
       "      <td>14</td>\n",
       "      <td>2</td>\n",
       "    </tr>\n",
       "    <tr>\n",
       "      <th>7</th>\n",
       "      <td>T2</td>\n",
       "      <td>15</td>\n",
       "      <td>17</td>\n",
       "      <td>2</td>\n",
       "    </tr>\n",
       "  </tbody>\n",
       "</table>\n",
       "</div>"
      ],
      "text/plain": [
       "  Task  start  end  length\n",
       "0   T2      0    2       2\n",
       "1   T3      2    4       2\n",
       "2   T1      4    5       1\n",
       "3   T2      5    7       2\n",
       "4   T1      7    9       2\n",
       "5   T2     10   12       2\n",
       "6   T3     12   14       2\n",
       "7   T2     15   17       2"
      ]
     },
     "execution_count": 61,
     "metadata": {},
     "output_type": "execute_result"
    }
   ],
   "source": [
    "RMS"
   ]
  },
  {
   "cell_type": "code",
   "execution_count": 64,
   "id": "44b9fc7c-dadc-4f23-9c28-1548ae1b11f6",
   "metadata": {},
   "outputs": [
    {
     "data": {
      "text/plain": [
       "['T1', 'T2', 'T3']"
      ]
     },
     "execution_count": 64,
     "metadata": {},
     "output_type": "execute_result"
    }
   ],
   "source": [
    "start = RMS.start\n",
    "Task=df.Task.values.tolist()\n",
    "Task"
   ]
  },
  {
   "cell_type": "code",
   "execution_count": 98,
   "id": "07dc6e9d-c663-464e-be11-cbc8ab0f0704",
   "metadata": {},
   "outputs": [
    {
     "data": {
      "image/png": "[encoded data removed]",
      "text/plain": [
       "<Figure size 1000x500 with 1 Axes>"
      ]
     },
     "metadata": {},
     "output_type": "display_data"
    }
   ],
   "source": [
    "RMS['start'] = pd.to_datetime(RMS['start'], unit='ms')\n",
    "RMS['end'] = pd.to_datetime(RMS['end'], unit='ms')\n",
    "\n",
    "# Plotting the Gantt chart\n",
    "fig, ax = plt.subplots(figsize=(10, 5))\n",
    "\n",
    "for i, task in enumerate(RMS['Task']):\n",
    "    ax.barh(task, width=(RMS['end'][i] - RMS['start'][i]), left=RMS['start'][i])\n",
    "\n",
    "ax.set_xlabel('Time')\n",
    "ax.set_ylabel('Task')\n",
    "ax.set_title('Task Scheduling Gantt Chart')\n",
    "\n",
    "plt.grid(True)\n",
    "plt.show()"
   ]
  },
  {
   "cell_type": "code",
   "execution_count": null,
   "id": "6e496d3d-023e-46b0-bdad-ed917b376b58",
   "metadata": {},
   "outputs": [],
   "source": []
  }
 ],
 "metadata": {
  "kernelspec": {
   "display_name": "Python 3 (ipykernel)",
   "language": "python",
   "name": "python3"
  },
  "language_info": {
   "codemirror_mode": {
    "name": "ipython",
    "version": 3
   },
   "file_extension": ".py",
   "mimetype": "text/x-python",
   "name": "python",
   "nbconvert_exporter": "python",
   "pygments_lexer": "ipython3",
   "version": "3.11.0"
  }
 },
 "nbformat": 4,
 "nbformat_minor": 5
}
