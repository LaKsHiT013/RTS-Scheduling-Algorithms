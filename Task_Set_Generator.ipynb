{
 "cells": [
  {
   "cell_type": "code",
   "execution_count": 46,
   "id": "f7ef1538-bd70-493c-91ed-ae1ade31ed4d",
   "metadata": {},
   "outputs": [],
   "source": [
    "import random as rd"
   ]
  },
  {
   "cell_type": "code",
   "execution_count": 47,
   "id": "4e9579fb-6334-457d-88e8-d2966c47b77c",
   "metadata": {},
   "outputs": [],
   "source": [
    "def gen_taskset(n_task,max_period,max_ex_time):\n",
    "    task_set=[]\n",
    "    for id in range(1,n_task+1):\n",
    "        period=rd.randint(1,max_period)\n",
    "        ex_time=rd.randint(1,min(max_ex_time,period))\n",
    "        release=rd.randint(0,period-1)\n",
    "        deadline=min(rd.randint(min(release+ex_time,period),period),period)\n",
    "        name=f'T{id}'\n",
    "        task_set.append([id,name,release,ex_time,period,deadline])\n",
    "    print(task_set)\n",
    "    return task_set\n"
   ]
  },
  {
   "cell_type": "code",
   "execution_count": 48,
   "id": "b463776f-e82c-4018-80fc-e841ce5f212f",
   "metadata": {},
   "outputs": [],
   "source": [
    "def fwrite(task_set,filename):\n",
    "    with open(filename,'w') as file:\n",
    "        for task in task_set:\n",
    "            file.write(f\"{task}\\n\")"
   ]
  },
  {
   "cell_type": "code",
   "execution_count": 51,
   "id": "385a893c-20e8-49ac-9a3b-8a5275ed47d4",
   "metadata": {},
   "outputs": [
    {
     "name": "stdout",
     "output_type": "stream",
     "text": [
      "[[1, 'T1', 3, 2, 10, 7], [2, 'T2', 5, 1, 6, 6], [3, 'T3', 6, 1, 7, 7]]\n"
     ]
    }
   ],
   "source": [
    "fwrite(gen_taskset(3,10,3),\"task_set.txt\")"
   ]
  },
  {
   "cell_type": "code",
   "execution_count": null,
   "id": "2384e18c-9f3d-4720-83f9-6d0ba4afcafd",
   "metadata": {},
   "outputs": [],
   "source": []
  }
 ],
 "metadata": {
  "kernelspec": {
   "display_name": "Python 3 (ipykernel)",
   "language": "python",
   "name": "python3"
  },
  "language_info": {
   "codemirror_mode": {
    "name": "ipython",
    "version": 3
   },
   "file_extension": ".py",
   "mimetype": "text/x-python",
   "name": "python",
   "nbconvert_exporter": "python",
   "pygments_lexer": "ipython3",
   "version": "3.11.0"
  }
 },
 "nbformat": 4,
 "nbformat_minor": 5
}
